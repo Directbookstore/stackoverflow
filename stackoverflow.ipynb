{
 "cells": [
  {
   "cell_type": "code",
   "execution_count": null,
   "id": "82948cc2",
   "metadata": {},
   "outputs": [],
   "source": []
  },
  {
   "cell_type": "code",
   "execution_count": 34,
   "id": "d6454140",
   "metadata": {},
   "outputs": [],
   "source": [
    "import requests\n",
    "from bs4 import BeautifulSoup\n",
    "import pandas as pd\n"
   ]
  },
  {
   "cell_type": "code",
   "execution_count": null,
   "id": "0b773b67",
   "metadata": {},
   "outputs": [],
   "source": []
  },
  {
   "cell_type": "code",
   "execution_count": 3,
   "id": "50ab4cb9",
   "metadata": {},
   "outputs": [],
   "source": [
    "headers = {'User.Agent': 'Mozilla/5.0 (Windows NT 10.0; Win64; x64) AppleWebKit/537.36 (KHTML, like Gecko) Chrome/122.0.0.0 Safari/537.36'}"
   ]
  },
  {
   "cell_type": "code",
   "execution_count": 21,
   "id": "a68f20ae",
   "metadata": {},
   "outputs": [],
   "source": [
    "questionlist = []"
   ]
  },
  {
   "cell_type": "code",
   "execution_count": 5,
   "id": "d69d1261",
   "metadata": {},
   "outputs": [],
   "source": []
  },
  {
   "cell_type": "code",
   "execution_count": 6,
   "id": "0a640a03",
   "metadata": {},
   "outputs": [],
   "source": []
  },
  {
   "cell_type": "code",
   "execution_count": 40,
   "id": "2f560a9c",
   "metadata": {},
   "outputs": [
    {
     "name": "stdout",
     "output_type": "stream",
     "text": [
      "750\n"
     ]
    }
   ],
   "source": [
    "def getQuestions(tag, page):\n",
    "    url = f'https://stackoverflow.com/questions/tagged/(tag)?tab=active&page=(page)&pagesize=15'\n",
    "    r= requests.get(url,headers=headers)\n",
    "    soup = BeautifulSoup(r.text, 'html.parser')\n",
    "    quetion = soup.find_all('div',{'class': 's-post-summary'})\n",
    "    \n",
    "    for item in questions:\n",
    "        question= {\n",
    "        'tag':tag,\n",
    "        'title': item.find('a',{'class': 's-link'}).text,\n",
    "\n",
    "        'link' :'https://stackoverflow.com'+item.find('a',{'class': 's-link'})['href'],\n",
    "\n",
    "        'votes': int(item.find('span',{'class': 's-post-summary--stats-item-number'}).text),\n",
    "\n",
    "        'date' : item.find('span',{'class': 'relativetime'})['title'],\n",
    "\n",
    "        }\n",
    "        questionlist.append(question)\n",
    "    return\n",
    "\n",
    "for x in range(1,3):\n",
    "    getQuestions('python', x)\n",
    "    #getQuestions('flask', x)\n",
    "    #getQuestions('large-language-model')\n",
    "\n",
    "print(len(questionlist))\n",
    "\n",
    "    \n",
    " \n",
    "    \n",
    "    \n",
    "\n",
    "\n",
    "\n",
    "\n",
    "\n",
    "\n"
   ]
  },
  {
   "cell_type": "code",
   "execution_count": 41,
   "id": "172f6d6c",
   "metadata": {},
   "outputs": [],
   "source": [
    "df = pd.DataFrame(questionlist)"
   ]
  },
  {
   "cell_type": "code",
   "execution_count": 42,
   "id": "6e8e1967",
   "metadata": {},
   "outputs": [
    {
     "data": {
      "text/html": [
       "<div>\n",
       "<style scoped>\n",
       "    .dataframe tbody tr th:only-of-type {\n",
       "        vertical-align: middle;\n",
       "    }\n",
       "\n",
       "    .dataframe tbody tr th {\n",
       "        vertical-align: top;\n",
       "    }\n",
       "\n",
       "    .dataframe thead th {\n",
       "        text-align: right;\n",
       "    }\n",
       "</style>\n",
       "<table border=\"1\" class=\"dataframe\">\n",
       "  <thead>\n",
       "    <tr style=\"text-align: right;\">\n",
       "      <th></th>\n",
       "      <th>title</th>\n",
       "      <th>link</th>\n",
       "      <th>votes</th>\n",
       "      <th>date</th>\n",
       "      <th>tag</th>\n",
       "    </tr>\n",
       "  </thead>\n",
       "  <tbody>\n",
       "    <tr>\n",
       "      <th>0</th>\n",
       "      <td>How to slicing url?</td>\n",
       "      <td>https://stackoverflow.com/questions/78094438/h...</td>\n",
       "      <td>0</td>\n",
       "      <td>2024-03-02 22:12:28Z</td>\n",
       "      <td>NaN</td>\n",
       "    </tr>\n",
       "    <tr>\n",
       "      <th>1</th>\n",
       "      <td>Is there a single source for Native Messaging ...</td>\n",
       "      <td>https://stackoverflow.com/questions/78094461/i...</td>\n",
       "      <td>0</td>\n",
       "      <td>2024-03-02 22:11:58Z</td>\n",
       "      <td>NaN</td>\n",
       "    </tr>\n",
       "    <tr>\n",
       "      <th>2</th>\n",
       "      <td>How to import a python file that is in the sam...</td>\n",
       "      <td>https://stackoverflow.com/questions/78094394/h...</td>\n",
       "      <td>0</td>\n",
       "      <td>2024-03-02 22:11:21Z</td>\n",
       "      <td>NaN</td>\n",
       "    </tr>\n",
       "    <tr>\n",
       "      <th>3</th>\n",
       "      <td>Change point detection in python</td>\n",
       "      <td>https://stackoverflow.com/questions/34992672/c...</td>\n",
       "      <td>6</td>\n",
       "      <td>2024-03-02 22:07:53Z</td>\n",
       "      <td>NaN</td>\n",
       "    </tr>\n",
       "    <tr>\n",
       "      <th>4</th>\n",
       "      <td>how to append a distinct value for each iterat...</td>\n",
       "      <td>https://stackoverflow.com/questions/78094405/h...</td>\n",
       "      <td>0</td>\n",
       "      <td>2024-03-02 22:07:46Z</td>\n",
       "      <td>NaN</td>\n",
       "    </tr>\n",
       "  </tbody>\n",
       "</table>\n",
       "</div>"
      ],
      "text/plain": [
       "                                               title  \\\n",
       "0                                How to slicing url?   \n",
       "1  Is there a single source for Native Messaging ...   \n",
       "2  How to import a python file that is in the sam...   \n",
       "3                   Change point detection in python   \n",
       "4  how to append a distinct value for each iterat...   \n",
       "\n",
       "                                                link  votes  \\\n",
       "0  https://stackoverflow.com/questions/78094438/h...      0   \n",
       "1  https://stackoverflow.com/questions/78094461/i...      0   \n",
       "2  https://stackoverflow.com/questions/78094394/h...      0   \n",
       "3  https://stackoverflow.com/questions/34992672/c...      6   \n",
       "4  https://stackoverflow.com/questions/78094405/h...      0   \n",
       "\n",
       "                   date  tag  \n",
       "0  2024-03-02 22:12:28Z  NaN  \n",
       "1  2024-03-02 22:11:58Z  NaN  \n",
       "2  2024-03-02 22:11:21Z  NaN  \n",
       "3  2024-03-02 22:07:53Z  NaN  \n",
       "4  2024-03-02 22:07:46Z  NaN  "
      ]
     },
     "execution_count": 42,
     "metadata": {},
     "output_type": "execute_result"
    }
   ],
   "source": [
    "df.head()"
   ]
  },
  {
   "cell_type": "code",
   "execution_count": 38,
   "id": "33340fdc",
   "metadata": {},
   "outputs": [],
   "source": [
    "\n",
    "df.to_csv('stackquestions.csv')"
   ]
  },
  {
   "cell_type": "code",
   "execution_count": null,
   "id": "2605fa79",
   "metadata": {},
   "outputs": [],
   "source": []
  },
  {
   "cell_type": "code",
   "execution_count": null,
   "id": "bf5ff6f7",
   "metadata": {},
   "outputs": [],
   "source": [
    "\n"
   ]
  },
  {
   "cell_type": "code",
   "execution_count": null,
   "id": "9d1c654c",
   "metadata": {},
   "outputs": [],
   "source": []
  }
 ],
 "metadata": {
  "kernelspec": {
   "display_name": "Python 3 (ipykernel)",
   "language": "python",
   "name": "python3"
  },
  "language_info": {
   "codemirror_mode": {
    "name": "ipython",
    "version": 3
   },
   "file_extension": ".py",
   "mimetype": "text/x-python",
   "name": "python",
   "nbconvert_exporter": "python",
   "pygments_lexer": "ipython3",
   "version": "3.11.5"
  }
 },
 "nbformat": 4,
 "nbformat_minor": 5
}
